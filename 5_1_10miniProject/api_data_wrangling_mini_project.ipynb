{
 "cells": [
  {
   "cell_type": "markdown",
   "metadata": {},
   "source": [
    "This exercise will require you to pull some data from the Qunadl API. Qaundl is currently the most widely used aggregator of financial market data."
   ]
  },
  {
   "cell_type": "markdown",
   "metadata": {},
   "source": [
    "#                         api data wrangling by Jawwad Sabir "
   ]
  },
  {
   "cell_type": "markdown",
   "metadata": {},
   "source": [
    "As a first step, you will need to register a free account on the http://www.quandl.com website."
   ]
  },
  {
   "cell_type": "markdown",
   "metadata": {},
   "source": [
    "After you register, you will be provided with a unique API key, that you should store:"
   ]
  },
  {
   "cell_type": "code",
   "execution_count": 67,
   "metadata": {
    "collapsed": true
   },
   "outputs": [],
   "source": [
    "# Store the API key as a string - according to PEP8, constants are always named in all upper case\n",
    "\n",
    "\n",
    "import os\n",
    "API_KEY = os.environ.get('api_key')"
   ]
  },
  {
   "cell_type": "markdown",
   "metadata": {},
   "source": [
    "Qaundl has a large number of data sources, but, unfortunately, most of them require a Premium subscription. Still, there are also a good number of free datasets."
   ]
  },
  {
   "cell_type": "markdown",
   "metadata": {},
   "source": [
    "For this mini project, we will focus on equities data from the Frankfurt Stock Exhange (FSE), which is available for free. We'll try and analyze the stock prices of a company called Carl Zeiss Meditec, which manufactures tools for eye examinations, as well as medical lasers for laser eye surgery: https://www.zeiss.com/meditec/int/home.html. The company is listed under the stock ticker AFX_X."
   ]
  },
  {
   "cell_type": "markdown",
   "metadata": {},
   "source": [
    "You can find the detailed Quandl API instructions here: https://docs.quandl.com/docs/time-series"
   ]
  },
  {
   "cell_type": "markdown",
   "metadata": {},
   "source": [
    "While there is a dedicated Python package for connecting to the Quandl API, we would prefer that you use the *requests* package, which can be easily downloaded using *pip* or *conda*. You can find the documentation for the package here: http://docs.python-requests.org/en/master/ "
   ]
  },
  {
   "cell_type": "markdown",
   "metadata": {},
   "source": [
    "Finally, apart from the *requests* package, you are encouraged to not use any third party Python packages, such as *pandas*, and instead focus on what's available in the Python Standard Library (the *collections* module might come in handy: https://pymotw.com/3/collections/).\n",
    "Also, since you won't have access to DataFrames, you are encouraged to us Python's native data structures - preferably dictionaries, though some questions can also be answered using lists.\n",
    "You can read more on these data structures here: https://docs.python.org/3/tutorial/datastructures.html"
   ]
  },
  {
   "cell_type": "markdown",
   "metadata": {},
   "source": [
    "Keep in mind that the JSON responses you will be getting from the API map almost one-to-one to Python's dictionaries. Unfortunately, they can be very nested, so make sure you read up on indexing dictionaries in the documentation provided above."
   ]
  },
  {
   "cell_type": "code",
   "execution_count": 55,
   "metadata": {
    "collapsed": true
   },
   "outputs": [],
   "source": [
    "# First, import the relevant modules\n",
    "import json\n",
    "import requests\n",
    "from matplotlib import pyplot as plt"
   ]
  },
  {
   "cell_type": "code",
   "execution_count": 23,
   "metadata": {},
   "outputs": [
    {
     "data": {
      "text/plain": [
       "{'dataset': {'collapse': None,\n",
       "  'column_index': None,\n",
       "  'column_names': ['Date',\n",
       "   'Open',\n",
       "   'High',\n",
       "   'Low',\n",
       "   'Last',\n",
       "   'Volume',\n",
       "   'Open Interest'],\n",
       "  'data': [['2019-02-21', None, 455.0, 455.0, 455.0, 0.0, 0.0],\n",
       "   ['2019-02-20', None, 454.0, 454.0, 454.0, 0.0, 0.0]],\n",
       "  'database_code': 'CHRIS',\n",
       "  'database_id': 596,\n",
       "  'dataset_code': 'MGEX_IH1',\n",
       "  'description': 'Historical Futures Prices: Minneapolis HRWI Hard Red Wheat Futures, Continuous Contract #1. Non-adjusted price based on spot-month continuous contract calculations. Raw data from MGEX.',\n",
       "  'end_date': '2019-02-21',\n",
       "  'frequency': 'daily',\n",
       "  'id': 9774107,\n",
       "  'limit': None,\n",
       "  'name': 'Minneapolis HRWI Hard Red Wheat Futures, Continuous Contract #1 (IH1) (Front Month)',\n",
       "  'newest_available_date': '2020-02-21',\n",
       "  'oldest_available_date': '2005-01-03',\n",
       "  'order': None,\n",
       "  'premium': False,\n",
       "  'refreshed_at': '2020-02-23T19:27:53.895Z',\n",
       "  'start_date': '2019-02-20',\n",
       "  'transform': None,\n",
       "  'type': 'Time Series'}}"
      ]
     },
     "execution_count": 23,
     "metadata": {},
     "output_type": "execute_result"
    }
   ],
   "source": [
    "# Now, call the Quandl API and pull out a small sample of the data (only one day) to get a glimpse\n",
    "# into the JSON structure that will be returned\n",
    "url = 'https://www.quandl.com/api/v3/datasets/CHRIS/MGEX_IH1.json?'\n",
    "\n",
    "params = dict(api_key=API_KEY, start_date='2019-02-20', end_date='2019-02-21')\n",
    "\n",
    "r = requests.get(url, params=params)\n",
    "json_obj = r.json()\n",
    "json_obj"
   ]
  },
  {
   "cell_type": "code",
   "execution_count": 28,
   "metadata": {},
   "outputs": [
    {
     "data": {
      "text/plain": [
       "['Date', 'Open', 'High', 'Low', 'Last', 'Volume', 'Open Interest']"
      ]
     },
     "execution_count": 28,
     "metadata": {},
     "output_type": "execute_result"
    }
   ],
   "source": [
    "# Inspect the JSON structure of the object you created, and take note of how nested it is,\n",
    "# as well as the overall structure\n",
    "json_obj['dataset']['column_names']"
   ]
  },
  {
   "cell_type": "code",
   "execution_count": 29,
   "metadata": {},
   "outputs": [
    {
     "data": {
      "text/plain": [
       "[['2019-02-21', None, 455.0, 455.0, 455.0, 0.0, 0.0],\n",
       " ['2019-02-20', None, 454.0, 454.0, 454.0, 0.0, 0.0]]"
      ]
     },
     "execution_count": 29,
     "metadata": {},
     "output_type": "execute_result"
    }
   ],
   "source": [
    "json_obj['dataset']['data']"
   ]
  },
  {
   "cell_type": "markdown",
   "metadata": {},
   "source": [
    "These are your tasks for this mini project:\n",
    "\n",
    "1. Collect data from the Franfurt Stock Exchange, for the ticker AFX_X, for the whole year 2017 (keep in mind that the date format is YYYY-MM-DD).\n",
    "2. Convert the returned JSON object into a Python dictionary.\n",
    "3. Calculate what the highest and lowest opening prices were for the stock in this period.\n",
    "4. What was the largest change in any one day (based on High and Low price)?\n",
    "5. What was the largest change between any two days (based on Closing Price)?\n",
    "6. What was the average daily trading volume during this year?\n",
    "7. (Optional) What was the median trading volume during this year. (Note: you may need to implement your own function for calculating the median.)"
   ]
  },
  {
   "cell_type": "markdown",
   "metadata": {},
   "source": [
    "# Tasks for mini project"
   ]
  },
  {
   "cell_type": "markdown",
   "metadata": {},
   "source": [
    "without using pandas "
   ]
  },
  {
   "cell_type": "code",
   "execution_count": 50,
   "metadata": {},
   "outputs": [
    {
     "data": {
      "text/plain": [
       "['Date',\n",
       " 'Open',\n",
       " 'High',\n",
       " 'Low',\n",
       " 'Close',\n",
       " 'Change',\n",
       " 'Traded Volume',\n",
       " 'Turnover',\n",
       " 'Last Price of the Day',\n",
       " 'Daily Traded Units',\n",
       " 'Daily Turnover']"
      ]
     },
     "execution_count": 50,
     "metadata": {},
     "output_type": "execute_result"
    }
   ],
   "source": [
    "# ================= TASK 1 =========================\n",
    "# Collect data from the Franfurt Stock Exchange, \n",
    "# for the ticker AFX_X, for the whole year 2017 (keep in mind that the date format is YYYY-MM-DD).\n",
    "\n",
    "url = 'https://www.quandl.com/api/v3/datasets/FSE/AFX_X.json'\n",
    "\n",
    "params = dict(api_key=API_KEY, start_date='2017-01-01', end_date='2017-12-31')\n",
    "\n",
    "r = requests.get(url, params=params)\n",
    "json_obj = r.json()\n",
    "\n",
    "# separate the useful data from the json object\n",
    "columnNames = json_obj['dataset']['column_names']\n",
    "data_obj = json_obj['dataset']['data']\n",
    "columnNames"
   ]
  },
  {
   "cell_type": "code",
   "execution_count": 56,
   "metadata": {},
   "outputs": [
    {
     "data": {
      "text/plain": [
       "dict_keys(['Date', 'Open', 'High', 'Low', 'Close', 'Change', 'Traded Volume', 'Turnover', 'Last Price of the Day', 'Daily Traded Units', 'Daily Turnover'])"
      ]
     },
     "execution_count": 56,
     "metadata": {},
     "output_type": "execute_result"
    }
   ],
   "source": [
    "# ============== TASK 2 ==============\n",
    "# convert the json object into the dictionary format\n",
    "# zipping the relevant data together and converting it into a dictionary\n",
    "\n",
    "dt = dict(zip(columnNames, zip(*data_obj)))\n",
    "dt.keys()"
   ]
  },
  {
   "cell_type": "code",
   "execution_count": 61,
   "metadata": {},
   "outputs": [
    {
     "name": "stdout",
     "output_type": "stream",
     "text": [
      "highest opening price for the year 2017 is:  53.11\n",
      "lowest opening price for the year 2017 is:   34.0\n"
     ]
    }
   ],
   "source": [
    "# ============== TASK 3 ==============\n",
    "# Calculate what the highest and lowest opening prices were for the stock in this period.\n",
    "\n",
    "highest_price = max(float(price) for price in open_price)\n",
    "lowest_price = min(float(price) for price in open_price)\n",
    "\n",
    "print(\"highest opening price for the year 2017 is: \", highest_price)\n",
    "print(\"lowest opening price for the year 2017 is:  \", lowest_price)"
   ]
  },
  {
   "cell_type": "code",
   "execution_count": 62,
   "metadata": {},
   "outputs": [
    {
     "name": "stdout",
     "output_type": "stream",
     "text": [
      "Largest change in one day is:  2.81\n"
     ]
    }
   ],
   "source": [
    "# ============== TASK 4 ==============\n",
    "# Largest change in one day based on high and low prices\n",
    "data_length = len(dt['Date'])\n",
    "high_price = dt['High']\n",
    "low_price = dt['Low']\n",
    "\n",
    "\n",
    "def largest_change_oneDay(arr1, arr2):\n",
    "    diff = 0\n",
    "    for i in range(len(arr1)):\n",
    "        temp = arr1[i] - arr2[i]\n",
    "        if temp > diff:\n",
    "            diff = temp\n",
    "    return round(diff, 2)\n",
    "\n",
    "\n",
    "print(\"Largest change in one day is: \", largest_change_oneDay(high_price, low_price))"
   ]
  },
  {
   "cell_type": "code",
   "execution_count": 63,
   "metadata": {},
   "outputs": [
    {
     "name": "stdout",
     "output_type": "stream",
     "text": [
      "largest change between any two days is:  2.56\n"
     ]
    }
   ],
   "source": [
    "# ============== TASK 5 ==============\n",
    "# largest change between any two days (based on Closing Price)\n",
    "closing_price = dt['Close']\n",
    "\n",
    "\n",
    "def largest_change_twoDays(arr):\n",
    "    lc = 0\n",
    "    for i in range(1, len(arr)):\n",
    "        if arr[i] is not None:\n",
    "            temp = abs((arr[i]) - (arr[i - 1]))\n",
    "            if temp > lc:\n",
    "                lc = temp\n",
    "    return round(lc, 2)\n",
    "\n",
    "\n",
    "print(\"largest change between any two days is: \", largest_change_twoDays(closing_price))\n"
   ]
  },
  {
   "cell_type": "code",
   "execution_count": 64,
   "metadata": {},
   "outputs": [
    {
     "name": "stdout",
     "output_type": "stream",
     "text": [
      "average daily trading volume during this year is:  89124.34\n"
     ]
    }
   ],
   "source": [
    "# ============== TASK 6 ==============\n",
    "# average daily trading volume during this year\n",
    "\n",
    "trading_volume = dt['Traded Volume']\n",
    "average_trading_volume = sum(trading_volume) / len(trading_volume)\n",
    "\n",
    "print(\"average daily trading volume during this year is: \", round(average_trading_volume, 2))\n",
    "\n"
   ]
  },
  {
   "cell_type": "code",
   "execution_count": 66,
   "metadata": {},
   "outputs": [
    {
     "name": "stdout",
     "output_type": "stream",
     "text": [
      "median trading volume for the year is:  134965.0\n"
     ]
    }
   ],
   "source": [
    "# ============== TASK 7 ==============\n",
    "# median trading volume for the year\n",
    "def median_cal(arr):\n",
    "    m = int(len(arr) / 2)\n",
    "    # if even no of elements in array take the average of middle two\n",
    "    if len(arr) % 2 == 0:\n",
    "        med = (arr[m] + arr[m + 1]) / 2\n",
    "    else:\n",
    "        med = arr[m]\n",
    "    return med\n",
    "\n",
    "\n",
    "print(\"median trading volume for the year is: \", median_cal(trading_volume))\n"
   ]
  }
 ],
 "metadata": {
  "kernelspec": {
   "display_name": "Python 3",
   "language": "python",
   "name": "python3"
  },
  "language_info": {
   "codemirror_mode": {
    "name": "ipython",
    "version": 3
   },
   "file_extension": ".py",
   "mimetype": "text/x-python",
   "name": "python",
   "nbconvert_exporter": "python",
   "pygments_lexer": "ipython3",
   "version": "3.7.3"
  }
 },
 "nbformat": 4,
 "nbformat_minor": 2
}
